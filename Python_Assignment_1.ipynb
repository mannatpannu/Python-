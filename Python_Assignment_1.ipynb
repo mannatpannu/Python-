{
  "nbformat": 4,
  "nbformat_minor": 0,
  "metadata": {
    "colab": {
      "provenance": []
    },
    "kernelspec": {
      "name": "python3",
      "display_name": "Python 3"
    },
    "language_info": {
      "name": "python"
    }
  },
  "cells": [
    {
      "cell_type": "markdown",
      "source": [
        "**Assignment 1: Python Basics Solutions**"
      ],
      "metadata": {
        "id": "03TWvdxX-9m0"
      }
    },
    {
      "cell_type": "markdown",
      "source": [
        "# Section 1: Numerical Data Types & Arithmetic Operators"
      ],
      "metadata": {
        "id": "M8dsfgQg_IAa"
      }
    },
    {
      "cell_type": "markdown",
      "source": [
        "The Road Trip Planner"
      ],
      "metadata": {
        "id": "tiD3-JYM_NHb"
      }
    },
    {
      "cell_type": "code",
      "source": [
        "# Given Values\n",
        "fuel_efficiency = 11.5  # km per liter\n",
        "distance = 475  # km\n",
        "fuel_price = 1.65  # $ per liter\n",
        "tank_capacity = 50  # liters"
      ],
      "metadata": {
        "id": "YG288rNg6kHH"
      },
      "execution_count": null,
      "outputs": []
    },
    {
      "cell_type": "code",
      "source": [
        "# a. Fuel needed for the trip\n",
        "fuel_needed = distance/fuel_efficiency\n",
        "print(f\"Fuel needed: {fuel_needed} liters\")"
      ],
      "metadata": {
        "colab": {
          "base_uri": "https://localhost:8080/"
        },
        "id": "2NUkGTw47y_g",
        "outputId": "cee855e6-c4ff-45b0-a82c-294619d324c7"
      },
      "execution_count": null,
      "outputs": [
        {
          "output_type": "stream",
          "name": "stdout",
          "text": [
            "Fuel needed: 41.30434782608695 liters\n"
          ]
        }
      ]
    },
    {
      "cell_type": "code",
      "source": [
        "# b. Number of full tanks\n",
        "full_tanks = fuel_needed // tank_capacity\n",
        "print(f\"Full tanks needed: {full_tanks}\")"
      ],
      "metadata": {
        "colab": {
          "base_uri": "https://localhost:8080/"
        },
        "id": "6sO8VwJw8DYW",
        "outputId": "49fdae83-eed0-4b1d-b8e7-b4c90efc3f9c"
      },
      "execution_count": null,
      "outputs": [
        {
          "output_type": "stream",
          "name": "stdout",
          "text": [
            "Full tanks needed: 0.0\n"
          ]
        }
      ]
    },
    {
      "cell_type": "code",
      "source": [
        "# c. Total fuel cost\n",
        "total_cost = fuel_needed * fuel_price\n",
        "print(f\"Total cost: ${total_cost}\")"
      ],
      "metadata": {
        "colab": {
          "base_uri": "https://localhost:8080/"
        },
        "id": "CabeBWJu8GEW",
        "outputId": "81a69faf-1e41-455c-ec89-e32a80c95b7b"
      },
      "execution_count": null,
      "outputs": [
        {
          "output_type": "stream",
          "name": "stdout",
          "text": [
            "Total cost: $68.15217391304347\n"
          ]
        }
      ]
    },
    {
      "cell_type": "code",
      "source": [
        "# d. Remaining fuel\n",
        "remaining_fuel = tank_capacity - fuel_needed\n",
        "print(f\"Remaining fuel: {remaining_fuel} liters\")"
      ],
      "metadata": {
        "colab": {
          "base_uri": "https://localhost:8080/"
        },
        "id": "mjJ21XPS8Lug",
        "outputId": "2927f569-c92d-443f-fa4b-85efb66305ea"
      },
      "execution_count": null,
      "outputs": [
        {
          "output_type": "stream",
          "name": "stdout",
          "text": [
            "Remaining fuel: 8.695652173913047 liters\n"
          ]
        }
      ]
    },
    {
      "cell_type": "markdown",
      "source": [
        "# Section 2: Comparison & Logical Operators"
      ],
      "metadata": {
        "id": "YnRlqqgl-aEs"
      }
    },
    {
      "cell_type": "markdown",
      "source": [
        "Theme Park Entry Rules"
      ],
      "metadata": {
        "id": "b3lVkyG8-g9T"
      }
    },
    {
      "cell_type": "code",
      "source": [
        "# Given Values Scenario a\n",
        "age = 30\n",
        "is_weekday = True\n",
        "is_family_day = False\n",
        "group_size = 3\n",
        "\n",
        "# Boolean expression for discount eligibility\n",
        "discount_eligible = (age <= 12 and is_weekday) or (age >= 65) or (is_family_day and group_size >= 4)\n",
        "print(f\"Discount eligible: {discount_eligible}\")\n"
      ],
      "metadata": {
        "colab": {
          "base_uri": "https://localhost:8080/"
        },
        "id": "IE9N0dWj8V0G",
        "outputId": "895d9f39-911c-4ab3-e9ba-a3bf18a2be0f"
      },
      "execution_count": null,
      "outputs": [
        {
          "output_type": "stream",
          "name": "stdout",
          "text": [
            "Discount eligible: False\n"
          ]
        }
      ]
    },
    {
      "cell_type": "code",
      "source": [
        "# Scenario b\n",
        "age = 10\n",
        "is_weekday = True\n",
        "is_family_day = False\n",
        "group_size = 2\n",
        "\n",
        "discount_eligible = (age <= 12 and is_weekday) or (age >= 65) or (is_family_day and group_size >= 4)\n",
        "print(f\"Discount eligible: {discount_eligible}\")"
      ],
      "metadata": {
        "colab": {
          "base_uri": "https://localhost:8080/"
        },
        "id": "qvXMs_12_VGh",
        "outputId": "812698c2-eb72-4037-9523-f93a89b2ad76"
      },
      "execution_count": null,
      "outputs": [
        {
          "output_type": "stream",
          "name": "stdout",
          "text": [
            "Discount eligible: True\n"
          ]
        }
      ]
    },
    {
      "cell_type": "code",
      "source": [
        "# Step-by-step evaluation:\n",
        "# Step 1: Check if the person is a child on a weekday\n",
        "#  (age <= 12 and is_weekday) = (10 <= 12 and True) = True\n",
        "\n",
        "# Step 2: Check if the person is a senior\n",
        "# (age >= 65) = (10 >= 65) = False\n",
        "\n",
        "# Step 3: Check if it's Family Day with a large group\n",
        "# (is_family_day and group_size >= 4) = (False and 2 >= 4) = False\n",
        "\n",
        "# Step 4: Combine all conditions with OR\n",
        "# Result: True or False or False = True"
      ],
      "metadata": {
        "id": "sGi56Q6dDoqL"
      },
      "execution_count": null,
      "outputs": []
    },
    {
      "cell_type": "markdown",
      "source": [
        "# Section 3: String Data Types, Indexing & Slicing"
      ],
      "metadata": {
        "id": "lWvvKRf1_u5P"
      }
    },
    {
      "cell_type": "markdown",
      "source": [
        "Message Decoder"
      ],
      "metadata": {
        "id": "iFsF_LNG_053"
      }
    },
    {
      "cell_type": "code",
      "source": [
        "secret_message = \"PyThoN_Is_FuN_AnD_PoWeRfUl!\""
      ],
      "metadata": {
        "id": "AtbT0HeP_tIA"
      },
      "execution_count": null,
      "outputs": []
    },
    {
      "cell_type": "code",
      "source": [
        "# a. Character at index 5\n",
        "char_at_index_5 = secret_message[5]\n",
        "print(f\"Character at index 5: {char_at_index_5}\")"
      ],
      "metadata": {
        "colab": {
          "base_uri": "https://localhost:8080/"
        },
        "id": "oj5U5HK3AG8n",
        "outputId": "02e3e434-fd86-4641-abf0-9019a1db91b0"
      },
      "execution_count": null,
      "outputs": [
        {
          "output_type": "stream",
          "name": "stdout",
          "text": [
            "Character at index 5: N\n"
          ]
        }
      ]
    },
    {
      "cell_type": "code",
      "source": [
        "# b. Extract \"Is_FuN\" using positive indexing\n",
        "is_fun_substring = secret_message[7:14]\n",
        "print(f\"'Is_FuN' substring: {is_fun_substring}\")"
      ],
      "metadata": {
        "colab": {
          "base_uri": "https://localhost:8080/"
        },
        "id": "S8Ud2RsXALLW",
        "outputId": "7c0e0bc1-233a-4336-8817-9b3472c69a26"
      },
      "execution_count": null,
      "outputs": [
        {
          "output_type": "stream",
          "name": "stdout",
          "text": [
            "'Is_FuN' substring: Is_FuN_\n"
          ]
        }
      ]
    },
    {
      "cell_type": "code",
      "source": [
        "# c. Extract \"PoWeRfUl\" using negative indexing\n",
        "powerful_substring = secret_message[-9:-1]\n",
        "print(f\"'PoWeRfUl' substring: {powerful_substring}\")"
      ],
      "metadata": {
        "colab": {
          "base_uri": "https://localhost:8080/"
        },
        "id": "1wKeOLKpAQ8U",
        "outputId": "5daafede-5201-4056-b051-a3427664d9b8"
      },
      "execution_count": null,
      "outputs": [
        {
          "output_type": "stream",
          "name": "stdout",
          "text": [
            "'PoWeRfUl' substring: PoWeRfUl\n"
          ]
        }
      ]
    },
    {
      "cell_type": "code",
      "source": [
        "# d. Every 4th character\n",
        "every_fourth = secret_message[0::4]\n",
        "print(f\"Every 4th character: {every_fourth}\")"
      ],
      "metadata": {
        "colab": {
          "base_uri": "https://localhost:8080/"
        },
        "id": "9iJzifDsAWGF",
        "outputId": "a8b9a429-2dac-4d20-bdc8-825b002b6be8"
      },
      "execution_count": null,
      "outputs": [
        {
          "output_type": "stream",
          "name": "stdout",
          "text": [
            "Every 4th character: PosNDWU\n"
          ]
        }
      ]
    },
    {
      "cell_type": "markdown",
      "source": [
        " e. Accessing out-of-range index\n",
        "\n",
        "\n",
        "\n",
        " explaination: secret_message lenght in 50 but actually its 29 i.e., it shows 'thet position does't exist in the strings'\n",
        "\n",
        "\n",
        "if 50 < len(secret_message):\n",
        "    print(secret_message[50])\n",
        "else:\n",
        "    print(\"That position doesn't exist in the string!\")"
      ],
      "metadata": {
        "id": "wLeeex2vCC2V"
      }
    },
    {
      "cell_type": "markdown",
      "source": [
        "# Section 4: Boolean Values & Expressions\n",
        "\n",
        " Predict and Verify"
      ],
      "metadata": {
        "id": "T2oUrZ2vI5gn"
      }
    },
    {
      "cell_type": "code",
      "source": [
        "# Given values\n",
        "\n",
        "x = 15\n",
        "y = 25\n",
        "z = 15\n",
        "text = \"adventure\""
      ],
      "metadata": {
        "id": "ph1-LHb2BBwt"
      },
      "execution_count": null,
      "outputs": []
    },
    {
      "cell_type": "code",
      "source": [
        "# a. (x == z) and (y > x)\n",
        "result_a = (x == z) and (y > x)\n",
        "print(f\"(x == z) and (y > x) = {result_a}\")"
      ],
      "metadata": {
        "colab": {
          "base_uri": "https://localhost:8080/"
        },
        "id": "kdYLvEIEJaCP",
        "outputId": "fd8ed143-095e-4071-f320-a749a8a1af93"
      },
      "execution_count": null,
      "outputs": [
        {
          "output_type": "stream",
          "name": "stdout",
          "text": [
            "(x == z) and (y > x) = True\n"
          ]
        }
      ]
    },
    {
      "cell_type": "code",
      "source": [
        "# b. (x != z) or (y < x) or (len(text) < 5)\n",
        "result_b = (x != z) or (y < x) or (len(text) < 5)\n",
        "print(f\"(x != z) or (y < x) or (len(text) < 5) = {result_b}\")"
      ],
      "metadata": {
        "colab": {
          "base_uri": "https://localhost:8080/"
        },
        "id": "6mKRBOvKJpmu",
        "outputId": "fb039ce3-ee51-4071-e4d0-9739280c3ad4"
      },
      "execution_count": null,
      "outputs": [
        {
          "output_type": "stream",
          "name": "stdout",
          "text": [
            "(x != z) or (y < x) or (len(text) < 5) = False\n"
          ]
        }
      ]
    },
    {
      "cell_type": "code",
      "source": [
        "# c. not ((x > y) and (text == \"Adventure\"))\n",
        "result_c = not ((x > y) and (text == \"Adventure\"))\n",
        "print(f\"not ((x > y) and (text == \\\"Adventure\\\")) = {result_c}\")"
      ],
      "metadata": {
        "colab": {
          "base_uri": "https://localhost:8080/"
        },
        "id": "q0O2lSJnJto2",
        "outputId": "44dcb9c6-28bf-4563-e95f-23c501cee402"
      },
      "execution_count": null,
      "outputs": [
        {
          "output_type": "stream",
          "name": "stdout",
          "text": [
            "not ((x > y) and (text == \"Adventure\")) = True\n"
          ]
        }
      ]
    },
    {
      "cell_type": "markdown",
      "source": [
        "# Section 5: String Properties & Basic Methods"
      ],
      "metadata": {
        "id": "qYC5ql16KBm9"
      }
    },
    {
      "cell_type": "markdown",
      "source": [
        "User Profile Setup"
      ],
      "metadata": {
        "id": "RpumD7MbKFTs"
      }
    },
    {
      "cell_type": "code",
      "source": [
        "# a. String immutability\n",
        "username = \"MyUser123\""
      ],
      "metadata": {
        "id": "PKn2wt7OKACY"
      },
      "execution_count": 1,
      "outputs": []
    },
    {
      "cell_type": "code",
      "source": [
        "# Alternative approach:\n",
        "new_username = 'm' + username[1:]\n",
        "print(f\"Modified username: {new_username}\")"
      ],
      "metadata": {
        "colab": {
          "base_uri": "https://localhost:8080/"
        },
        "id": "y7fjbBW9KTmW",
        "outputId": "8ee5905d-f4cb-4cfc-f5b3-894fe392eff5"
      },
      "execution_count": null,
      "outputs": [
        {
          "output_type": "stream",
          "name": "stdout",
          "text": [
            "Modified username: myUser123\n"
          ]
        }
      ]
    },
    {
      "cell_type": "code",
      "source": [
        "# b. String transformations\n",
        "quote = \" practice makes perfect \""
      ],
      "metadata": {
        "id": "uf--PDqoKYDs"
      },
      "execution_count": null,
      "outputs": []
    },
    {
      "cell_type": "code",
      "source": [
        "# Apply transformations sequentially\n",
        "formatted_quote = quote.strip().upper().replace(\"PERFECT\", \"PROGRESS\")\n",
        "print(f\"Formatted quote: '{formatted_quote}'\")"
      ],
      "metadata": {
        "colab": {
          "base_uri": "https://localhost:8080/"
        },
        "id": "axJg2deTKfEO",
        "outputId": "dade42af-21c4-460f-aa9e-4bcf73a45373"
      },
      "execution_count": null,
      "outputs": [
        {
          "output_type": "stream",
          "name": "stdout",
          "text": [
            "Formatted quote: 'PRACTICE MAKES PROGRESS'\n"
          ]
        }
      ]
    },
    {
      "cell_type": "code",
      "source": [
        "# c. String lengths\n",
        "original_length = len(quote)\n",
        "formatted_length = len(formatted_quote)\n",
        "print(f\"Original length: {original_length}\")\n",
        "print(f\"Formatted length: {formatted_length}\")"
      ],
      "metadata": {
        "colab": {
          "base_uri": "https://localhost:8080/"
        },
        "id": "eM8HYRFfKi_o",
        "outputId": "2e732539-47f7-4255-e4bc-7eb58b6868ce"
      },
      "execution_count": null,
      "outputs": [
        {
          "output_type": "stream",
          "name": "stdout",
          "text": [
            "Original length: 24\n",
            "Formatted length: 23\n"
          ]
        }
      ]
    }
  ]
}